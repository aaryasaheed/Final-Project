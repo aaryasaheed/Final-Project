{
 "cells": [
  {
   "cell_type": "code",
   "execution_count": 1,
   "id": "e454c005",
   "metadata": {},
   "outputs": [],
   "source": [
    "# THIS FUNCTION TAKES A CSV FILE FROM A GITHUB URL AND READS IT INTO A PANDAS DATA FRAME\n",
    "import pandas as pd\n",
    "\n",
    "def read_file(url):\n",
    "\n",
    "    \"\"\"\n",
    "    Takes GitHub url as an argument,\n",
    "    pulls CSV file located @ github URL.\n",
    "\n",
    "    \"\"\"\n",
    "\n",
    "    url = url + \"?raw=true\"\n",
    "    df = pd.read_csv(url)\n",
    "    return df\n",
    "\n",
    "\n",
    "# READ FILE FROM GITHUB REPO \n",
    "# CHANGE THE URL TO YOUR DATA LOCATION!\n",
    "url = \"https://github.com/aaryasaheed/Final-Project\"\n",
    "\n",
    "kids= read_file(url)"
   ]
  },
  {
   "cell_type": "code",
   "execution_count": null,
   "id": "e89465c3",
   "metadata": {},
   "outputs": [],
   "source": []
  }
 ],
 "metadata": {
  "kernelspec": {
   "display_name": "Python 3 (ipykernel)",
   "language": "python",
   "name": "python3"
  },
  "language_info": {
   "codemirror_mode": {
    "name": "ipython",
    "version": 3
   },
   "file_extension": ".py",
   "mimetype": "text/x-python",
   "name": "python",
   "nbconvert_exporter": "python",
   "pygments_lexer": "ipython3",
   "version": "3.10.9"
  }
 },
 "nbformat": 4,
 "nbformat_minor": 5
}
